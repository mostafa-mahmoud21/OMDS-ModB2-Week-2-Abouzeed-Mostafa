{
 "cells": [
  {
   "cell_type": "markdown",
   "id": "5190b54c-d49c-4d6f-80cc-22555336a9cd",
   "metadata": {},
   "source": [
    "# Week 2 - Preprocessing, part 2\n",
    "\n",
    "# 1. Lesson: None"
   ]
  },
  {
   "cell_type": "markdown",
   "id": "47c4e5ff-b05f-4ef2-96f1-49dcb5beb158",
   "metadata": {},
   "source": [
    "# 2. Weekly graph question"
   ]
  },
  {
   "cell_type": "markdown",
   "id": "aad37e29-6e84-41fa-886d-abc1312213ab",
   "metadata": {},
   "source": [
    "The Storytelling With Data book mentions planning on a \"Who, What, and How\" for your data story.  Write down a possible Who, What, and How for your data, using the ideas in the book."
   ]
  },
  {
   "cell_type": "markdown",
   "id": "2b36d673",
   "metadata": {},
   "source": [
    "Who: This data story is for environmental policy makers and public health officials who need to understand how our environment is changing and why it matters.\n",
    "\n",
    "What: The data shows that ecological health is getting worse over time, likely due to pollution and climate change. This includes declines in air and water quality, biodiversity, and other key indicators. The goal is to raise awareness and encourage action to protect the environment.\n",
    "\n",
    "How: We will use clear visuals like line charts to show trends over time, bar charts to highlight key problems, and color to make the message easy to grasp. The story will be simple, focused, and designed to support better decision-making.\n",
    "\n"
   ]
  },
  {
   "cell_type": "markdown",
   "id": "898eb327-aefd-4ac0-b95a-92b616a2181b",
   "metadata": {},
   "source": [
    "# 3. Homework - work with your own data"
   ]
  },
  {
   "cell_type": "code",
   "execution_count": null,
   "id": "fe925521-979f-4983-8d85-8db8d1316e99",
   "metadata": {},
   "outputs": [],
   "source": [
    "import pandas as pd\n",
    "import numpy as np\n",
    "from datetime import datetime, timedelta"
   ]
  },
  {
   "cell_type": "markdown",
   "id": "14836788-b235-4cd4-b94d-5f749c6141a8",
   "metadata": {},
   "source": [
    "This week, you will do the same types of exercises as last week, but you should use your chosen datasets that someone in your class found last semester. (They likely will not be the particular datasets that you found yourself.)\n",
    "\n",
    "### Here are some types of analysis you can do  Use Google, documentation, and ChatGPT to help you:\n",
    "\n",
    "- Summarize the datasets using info() and describe()\n",
    "\n",
    "- Are there any duplicate rows?\n",
    "\n",
    "- Are there any duplicate values in a given column (when this would be inappropriate?)\n",
    "\n",
    "- What are the mean, median, and mode of each column?\n",
    "\n",
    "- Are there any missing or null values?\n",
    "\n",
    "    - Do you want to fill in the missing value with a mean value?  A value of your choice?  Remove that row?\n",
    "\n",
    "- Identify any other inconsistent data (e.g. someone seems to be taking an action before they are born.)\n",
    "\n",
    "- Encode any categorical variables (e.g. with one-hot encoding.)\n",
    "\n",
    "### Conclusions:\n",
    "\n",
    "- Are the data usable?  If not, find some new data!\n",
    "\n",
    "- Do you need to modify or correct the data in some way?\n",
    "\n",
    "- Is there any class imbalance?  (Categories that have many more items than other categories)."
   ]
  },
  {
   "cell_type": "code",
   "execution_count": null,
   "id": "4f53e10e",
   "metadata": {},
   "outputs": [],
   "source": [
    "# Show basic information about the data\n",
    "    print(\"\\n📊 Basic Information:\")\n",
    "    print(df.info())\n",
    "\n",
    "    print(\"\\n📈 Summary Statistics:\")\n",
    "    print(df.describe(include='all'))\n",
    "\n",
    "    # Step 3: Check for duplicate rows\n",
    "    duplicate_rows = df.duplicated().sum()\n",
    "    if duplicate_rows > 0:\n",
    "        print(f\"\\n⚠️ There are {duplicate_rows} duplicate rows.\")\n",
    "    else:\n",
    "        print(\"\\n✅ No duplicate rows found.\")\n",
    "\n",
    "    # Step 4: Check for duplicate values in each column\n",
    "    print(\"\\n🔁 Duplicate Values in Each Column:\")\n",
    "    column_duplicates = df.apply(lambda x: x.duplicated().sum())\n",
    "    print(column_duplicates)\n",
    "\n",
    "    # Step 5: Show mean, median, and mode\n",
    "    print(\"\\n📏 Mean (Average) Values:\")\n",
    "    print(df.mean(numeric_only=True))\n",
    "\n",
    "    print(\"\\n📍 Median Values:\")\n",
    "    print(df.median(numeric_only=True))\n",
    "\n",
    "    print(\"\\n🔢 Most Common (Mode) Values:\")\n",
    "    mode = df.mode(numeric_only=True)\n",
    "    if not mode.empty:\n",
    "        print(mode.iloc[0])\n",
    "    else:\n",
    "        print(\"⚠️ No mode values found.\")\n",
    "\n",
    "    # Step 6: Check for missing data\n",
    "    print(\"\\n❓ Missing Values:\")\n",
    "    missing = df.isnull().sum()\n",
    "    print(missing)\n",
    "    if missing.any():\n",
    "        print(\"🧹 Missing values found — we will remove those rows.\")\n",
    "        df_cleaned = df.dropna()\n",
    "    else:\n",
    "        print(\"✅ No missing values.\")\n",
    "        df_cleaned = df.copy()\n",
    "\n",
    "    # Step 7: Check for incorrect negative values\n",
    "    print(\"\\n🚫 Checking for Negative Values:\")\n",
    "    numeric_c_\n"
   ]
  },
  {
   "cell_type": "markdown",
   "id": "abab9e6d-18cc-4863-b980-3e52f581763a",
   "metadata": {},
   "source": [
    "# 4. Storytelling With Data graph"
   ]
  },
  {
   "cell_type": "markdown",
   "id": "1911148d-9df6-4b33-a875-8c96408ec834",
   "metadata": {},
   "source": [
    "Just like last week: choose any graph in the Introduction of Storytelling With Data. Use matplotlib to reproduce it in a rough way. I don't expect you to spend an enormous amount of time on this; I understand that you likely will not have time to re-create every feature of the graph. However, if you're excited about learning to use matplotlib, this is a good way to do that. You don't have to duplicate the exact values on the graph; just the same rough shape will be enough.  If you don't feel comfortable using matplotlib yet, do the best you can and write down what you tried or what Google searches you did to find the answers."
   ]
  },
  {
   "cell_type": "code",
   "execution_count": null,
   "id": "8b2888f9-3700-45ab-9829-6a5372106f9f",
   "metadata": {},
   "outputs": [],
   "source": []
  }
 ],
 "metadata": {
  "kernelspec": {
   "display_name": "Python 3 (ipykernel)",
   "language": "python",
   "name": "python3"
  },
  "language_info": {
   "codemirror_mode": {
    "name": "ipython",
    "version": 3
   },
   "file_extension": ".py",
   "mimetype": "text/x-python",
   "name": "python",
   "nbconvert_exporter": "python",
   "pygments_lexer": "ipython3",
   "version": "3.12.0"
  }
 },
 "nbformat": 4,
 "nbformat_minor": 5
}
